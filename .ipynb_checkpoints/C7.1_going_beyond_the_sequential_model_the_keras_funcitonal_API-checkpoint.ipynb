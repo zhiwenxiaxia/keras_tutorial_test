{
 "cells": [
  {
   "cell_type": "markdown",
   "metadata": {},
   "source": [
    "# Deep Learning with python Keras\n",
    "## Chapter 7: Advanced deep learning best practices\n",
    "### 7.1 Going beyong the sequential model: the Keras functional API"
   ]
  },
  {
   "cell_type": "markdown",
   "metadata": {},
   "source": [
    "#### 7.1.1 Introduction to the functional API"
   ]
  },
  {
   "cell_type": "code",
   "execution_count": 16,
   "metadata": {},
   "outputs": [],
   "source": [
    "from keras import Input, layers, losses, optimizers, metrics\n",
    "from keras.models import Sequential, Model\n",
    "import numpy as np\n",
    "from keras.utils import plot_model\n",
    "import matplotlib.pyplot as plt\n",
    "import os"
   ]
  },
  {
   "cell_type": "code",
   "execution_count": 18,
   "metadata": {},
   "outputs": [],
   "source": [
    "# set the results file path\n",
    "sectionnum = '7_1'\n",
    "cur_work_path = os.getcwd()\n",
    "res_path = '{}/res_c{}'.format(cur_work_path,sectionnum)\n",
    "if not os.path.exists(res_path):\n",
    "    os.mkdir(res_path)"
   ]
  },
  {
   "cell_type": "code",
   "execution_count": 21,
   "metadata": {},
   "outputs": [
    {
     "name": "stdout",
     "output_type": "stream",
     "text": [
      "_________________________________________________________________\n",
      "Layer (type)                 Output Shape              Param #   \n",
      "=================================================================\n",
      "dense_51 (Dense)             (None, 64)                4160      \n",
      "_________________________________________________________________\n",
      "dense_52 (Dense)             (None, 32)                2080      \n",
      "_________________________________________________________________\n",
      "dense_53 (Dense)             (None, 10)                330       \n",
      "=================================================================\n",
      "Total params: 6,570\n",
      "Trainable params: 6,570\n",
      "Non-trainable params: 0\n",
      "_________________________________________________________________\n",
      "the sequential model: None\n",
      "_________________________________________________________________\n",
      "Layer (type)                 Output Shape              Param #   \n",
      "=================================================================\n",
      "input_tensor (InputLayer)    (None, 64)                0         \n",
      "_________________________________________________________________\n",
      "dense_54 (Dense)             (None, 64)                4160      \n",
      "_________________________________________________________________\n",
      "dense_55 (Dense)             (None, 32)                2080      \n",
      "_________________________________________________________________\n",
      "dense_56 (Dense)             (None, 10)                330       \n",
      "=================================================================\n",
      "Total params: 6,570\n",
      "Trainable params: 6,570\n",
      "Non-trainable params: 0\n",
      "_________________________________________________________________\n",
      "the functional model: None\n",
      "Epoch 1/10\n",
      "1000/1000 [==============================] - 0s 314us/step - loss: 11.6034\n",
      "Epoch 2/10\n",
      "1000/1000 [==============================] - 0s 23us/step - loss: 11.5227\n",
      "Epoch 3/10\n",
      "1000/1000 [==============================] - 0s 40us/step - loss: 11.5124\n",
      "Epoch 4/10\n",
      "1000/1000 [==============================] - 0s 29us/step - loss: 11.5062\n",
      "Epoch 5/10\n",
      "1000/1000 [==============================] - 0s 21us/step - loss: 11.5038\n",
      "Epoch 6/10\n",
      "1000/1000 [==============================] - 0s 29us/step - loss: 11.5010\n",
      "Epoch 7/10\n",
      "1000/1000 [==============================] - 0s 26us/step - loss: 11.4997\n",
      "Epoch 8/10\n",
      "1000/1000 [==============================] - 0s 32us/step - loss: 11.4973\n",
      "Epoch 9/10\n",
      "1000/1000 [==============================] - 0s 33us/step - loss: 11.4952\n",
      "Epoch 10/10\n",
      "1000/1000 [==============================] - 0s 26us/step - loss: 11.4930\n",
      "1000/1000 [==============================] - 0s 121us/step\n",
      "11.489159393310548\n"
     ]
    }
   ],
   "source": [
    "# A Sequential model\n",
    "seq_model = Sequential()\n",
    "seq_model.add(layers.Dense(64,activation='relu',input_shape=(64,)))\n",
    "seq_model.add(layers.Dense(32,activation='relu'))\n",
    "seq_model.add(layers.Dense(10,activation='softmax'))\n",
    "seq_model.compile(optimizer='rmsprop', loss='categorical_crossentropy')\n",
    "\n",
    "# A functional equivalent\n",
    "input_tensor = Input(shape=(64,),name='input_tensor')\n",
    "x = layers.Dense(64, activation='relu')(input_tensor)\n",
    "x = layers.Dense(32, activation='relu')(x)\n",
    "output_tensor = layers.Dense(10, activation='softmax')(x)\n",
    "\n",
    "fun_model = Model(input_tensor, output_tensor)\n",
    "fun_model.compile(optimizer='rmsprop', loss='categorical_crossentropy')\n",
    "\n",
    "# let compare the two models\n",
    "print('the sequential model:', seq_model.summary())\n",
    "print('the functional model:', fun_model.summary())\n",
    "\n",
    "plot_model(model=seq_model,\n",
    "          to_file='{}/simple_seq_model.png'.format(res_path),\n",
    "          show_shapes=True)\n",
    "plot_model(model=fun_model,\n",
    "          to_file='{}/simple_fun_model.png'.format(res_path),\n",
    "          show_shapes=True)\n",
    "\n",
    "# training models\n",
    "x_train = np.random.random((1000,64))\n",
    "y_train = np.random.random((1000,10))\n",
    "\n",
    "fun_model.fit(x_train, y_train, epochs=10, batch_size=128)\n",
    "score = fun_model.evaluate(x_train, y_train)\n",
    "print(score)"
   ]
  },
  {
   "cell_type": "markdown",
   "metadata": {},
   "source": [
    "#### 7.1.2 Multi-input models"
   ]
  },
  {
   "cell_type": "code",
   "execution_count": 26,
   "metadata": {},
   "outputs": [
    {
     "name": "stdout",
     "output_type": "stream",
     "text": [
      "__________________________________________________________________________________________________\n",
      "Layer (type)                    Output Shape         Param #     Connected to                     \n",
      "==================================================================================================\n",
      "text (InputLayer)               (None, None)         0                                            \n",
      "__________________________________________________________________________________________________\n",
      "question (InputLayer)           (None, None)         0                                            \n",
      "__________________________________________________________________________________________________\n",
      "embedding_3 (Embedding)         (None, None, 10000)  640000      text[0][0]                       \n",
      "__________________________________________________________________________________________________\n",
      "embedding_4 (Embedding)         (None, None, 10000)  320000      question[0][0]                   \n",
      "__________________________________________________________________________________________________\n",
      "lstm_3 (LSTM)                   (None, 32)           1284224     embedding_3[0][0]                \n",
      "__________________________________________________________________________________________________\n",
      "lstm_4 (LSTM)                   (None, 16)           641088      embedding_4[0][0]                \n",
      "__________________________________________________________________________________________________\n",
      "concatenate_2 (Concatenate)     (None, 48)           0           lstm_3[0][0]                     \n",
      "                                                                 lstm_4[0][0]                     \n",
      "__________________________________________________________________________________________________\n",
      "dense_58 (Dense)                (None, 500)          24500       concatenate_2[0][0]              \n",
      "==================================================================================================\n",
      "Total params: 2,909,812\n",
      "Trainable params: 2,909,812\n",
      "Non-trainable params: 0\n",
      "__________________________________________________________________________________________________\n",
      "the multi-input model: None\n"
     ]
    }
   ],
   "source": [
    "text_vocabulary_size = 10000\n",
    "question_vocabulary_size = 10000\n",
    "answer_vocanulary_size = 500\n",
    "\n",
    "# text input\n",
    "text_input = Input(shape=(None,), dtype='int32', name='text')\n",
    "embedded_text = layers.Embedding(64, text_vocabulary_size)(text_input)\n",
    "encoded_text = layers.LSTM(32)(embedded_text)\n",
    "\n",
    "# question input\n",
    "question_input = Input(shape=(None,), dtype='int32', name='question')\n",
    "embedded_question = layers.Embedding(32, question_vocabulary_size)(question_input)\n",
    "encoded_question = layers.LSTM(16)(embedded_question)\n",
    "\n",
    "# the we concantenate the two \n",
    "concatenated = layers.concatenate([encoded_text,encoded_question], axis=-1)\n",
    "answer = layers.Dense(answer_vocanulary_size, activation='softmax')(concatenated)\n",
    "\n",
    "multi_input_model = Model([text_input, question_input], answer)\n",
    "multi_input_model.compile(optimizer='rmsprop', loss='categorical_crossentropy',metrics=['acc'])\n",
    "\n",
    "print('the multi-input model:', multi_input_model.summary())\n",
    "\n",
    "plot_model(model=multi_input_model,\n",
    "          to_file='{}/multi_input_model.png'.format(res_path),\n",
    "          show_shapes=True)"
   ]
  },
  {
   "cell_type": "code",
   "execution_count": 33,
   "metadata": {},
   "outputs": [
    {
     "name": "stdout",
     "output_type": "stream",
     "text": [
      "Epoch 1/10\n",
      "10/10 [==============================] - 1s 69ms/step - loss: 0.0000e+00 - acc: 0.0000e+00\n",
      "Epoch 2/10\n",
      "10/10 [==============================] - 1s 66ms/step - loss: 0.0000e+00 - acc: 0.0000e+00\n",
      "Epoch 3/10\n",
      "10/10 [==============================] - 1s 66ms/step - loss: 0.0000e+00 - acc: 0.0000e+00\n",
      "Epoch 4/10\n",
      "10/10 [==============================] - 1s 67ms/step - loss: 0.0000e+00 - acc: 0.0000e+00\n",
      "Epoch 5/10\n",
      "10/10 [==============================] - 1s 73ms/step - loss: 0.0000e+00 - acc: 0.0000e+00\n",
      "Epoch 6/10\n",
      "10/10 [==============================] - 1s 80ms/step - loss: 0.0000e+00 - acc: 0.0000e+00\n",
      "Epoch 7/10\n",
      "10/10 [==============================] - 1s 65ms/step - loss: 0.0000e+00 - acc: 0.0000e+00\n",
      "Epoch 8/10\n",
      "10/10 [==============================] - 1s 65ms/step - loss: 0.0000e+00 - acc: 0.0000e+00\n",
      "Epoch 9/10\n",
      "10/10 [==============================] - 1s 78ms/step - loss: 0.0000e+00 - acc: 0.0000e+00\n",
      "Epoch 10/10\n",
      "10/10 [==============================] - 1s 68ms/step - loss: 0.0000e+00 - acc: 0.0000e+00\n",
      "Train it again...\n",
      "Epoch 1/5\n",
      "10/10 [==============================] - 1s 64ms/step - loss: 0.0000e+00 - acc: 0.0000e+00\n",
      "Epoch 2/5\n",
      "10/10 [==============================] - 1s 63ms/step - loss: 0.0000e+00 - acc: 0.0000e+00\n",
      "Epoch 3/5\n",
      "10/10 [==============================] - 1s 63ms/step - loss: 0.0000e+00 - acc: 0.0000e+00\n",
      "Epoch 4/5\n",
      "10/10 [==============================] - 1s 76ms/step - loss: 0.0000e+00 - acc: 0.0000e+00\n",
      "Epoch 5/5\n",
      "10/10 [==============================] - 1s 70ms/step - loss: 0.0000e+00 - acc: 0.0000e+00\n"
     ]
    },
    {
     "data": {
      "text/plain": [
       "<keras.callbacks.History at 0x7f553f4ec0f0>"
      ]
     },
     "execution_count": 33,
     "metadata": {},
     "output_type": "execute_result"
    }
   ],
   "source": [
    "# Let's generate some dummy numpu data\n",
    "num_samples = 10\n",
    "max_len = 50\n",
    "# notes: the second param 32, should not be larger than 64, which is the first param in \n",
    "# layers.Embedding(64, text_vocabulary_size)(text_input)\n",
    "text = np.random.randint(1, 32, size=(num_samples, max_len))\n",
    "question = np.random.randint(1, 12, size=(num_samples, max_len))\n",
    "# answers are one-hot encoded\n",
    "answers = np.random.randint(0,1,size=(num_samples,answer_vocanulary_size))\n",
    "# Fitting\n",
    "multi_input_model.fit([text,question], answers, epochs=10, batch_size=128)\n",
    "print('Train it again...')\n",
    "multi_input_model.fit({'text': text, 'question': question},answers,epochs=5, batch_size=128)"
   ]
  },
  {
   "cell_type": "markdown",
   "metadata": {},
   "source": [
    "#### 7.1.3 Multi-output models"
   ]
  },
  {
   "cell_type": "code",
   "execution_count": 34,
   "metadata": {},
   "outputs": [
    {
     "ename": "ValueError",
     "evalue": "When passing a list as loss, it should have one entry per model outputs. The model has 1 outputs, but you passed loss=['mse', 'categorical_crossentropy', 'binary_crossentropy']",
     "output_type": "error",
     "traceback": [
      "\u001b[0;31m---------------------------------------------------------------------------\u001b[0m",
      "\u001b[0;31mValueError\u001b[0m                                Traceback (most recent call last)",
      "\u001b[0;32m<ipython-input-34-e8c76283a064>\u001b[0m in \u001b[0;36m<module>\u001b[0;34m()\u001b[0m\n\u001b[1;32m     23\u001b[0m multi_input_model.compile(optimizer='rmsprop',\n\u001b[1;32m     24\u001b[0m                          \u001b[0mloss\u001b[0m\u001b[0;34m=\u001b[0m\u001b[0;34m[\u001b[0m\u001b[0;34m'mse'\u001b[0m\u001b[0;34m,\u001b[0m \u001b[0;34m'categorical_crossentropy'\u001b[0m\u001b[0;34m,\u001b[0m \u001b[0;34m'binary_crossentropy'\u001b[0m\u001b[0;34m]\u001b[0m\u001b[0;34m,\u001b[0m\u001b[0;34m\u001b[0m\u001b[0m\n\u001b[0;32m---> 25\u001b[0;31m                          loss_weights = [0.25, 1., 10.])\n\u001b[0m\u001b[1;32m     26\u001b[0m \u001b[0mprint\u001b[0m\u001b[0;34m(\u001b[0m\u001b[0;34m'the multi-ouput model:'\u001b[0m\u001b[0;34m,\u001b[0m \u001b[0mmulti_input_model\u001b[0m\u001b[0;34m.\u001b[0m\u001b[0msummary\u001b[0m\u001b[0;34m(\u001b[0m\u001b[0;34m)\u001b[0m\u001b[0;34m)\u001b[0m\u001b[0;34m\u001b[0m\u001b[0m\n\u001b[1;32m     27\u001b[0m \u001b[0;34m\u001b[0m\u001b[0m\n",
      "\u001b[0;32m~/tensorflow/venv/lib/python3.5/site-packages/keras/engine/training.py\u001b[0m in \u001b[0;36mcompile\u001b[0;34m(self, optimizer, loss, metrics, loss_weights, sample_weight_mode, weighted_metrics, target_tensors, **kwargs)\u001b[0m\n\u001b[1;32m    132\u001b[0m                                  \u001b[0;34m'The model has '\u001b[0m \u001b[0;34m+\u001b[0m \u001b[0mstr\u001b[0m\u001b[0;34m(\u001b[0m\u001b[0mlen\u001b[0m\u001b[0;34m(\u001b[0m\u001b[0mself\u001b[0m\u001b[0;34m.\u001b[0m\u001b[0moutputs\u001b[0m\u001b[0;34m)\u001b[0m\u001b[0;34m)\u001b[0m \u001b[0;34m+\u001b[0m\u001b[0;34m\u001b[0m\u001b[0m\n\u001b[1;32m    133\u001b[0m                                  \u001b[0;34m' outputs, but you passed loss='\u001b[0m \u001b[0;34m+\u001b[0m\u001b[0;34m\u001b[0m\u001b[0m\n\u001b[0;32m--> 134\u001b[0;31m                                  str(loss))\n\u001b[0m\u001b[1;32m    135\u001b[0m             \u001b[0mloss_functions\u001b[0m \u001b[0;34m=\u001b[0m \u001b[0;34m[\u001b[0m\u001b[0mlosses\u001b[0m\u001b[0;34m.\u001b[0m\u001b[0mget\u001b[0m\u001b[0;34m(\u001b[0m\u001b[0ml\u001b[0m\u001b[0;34m)\u001b[0m \u001b[0;32mfor\u001b[0m \u001b[0ml\u001b[0m \u001b[0;32min\u001b[0m \u001b[0mloss\u001b[0m\u001b[0;34m]\u001b[0m\u001b[0;34m\u001b[0m\u001b[0m\n\u001b[1;32m    136\u001b[0m         \u001b[0;32melse\u001b[0m\u001b[0;34m:\u001b[0m\u001b[0;34m\u001b[0m\u001b[0m\n",
      "\u001b[0;31mValueError\u001b[0m: When passing a list as loss, it should have one entry per model outputs. The model has 1 outputs, but you passed loss=['mse', 'categorical_crossentropy', 'binary_crossentropy']"
     ]
    }
   ],
   "source": [
    "vocabulary_size = 50000\n",
    "num_income_groups = 10\n",
    "\n",
    "posts_input = Input(shape=(None,),dtype='int32',name='posts')\n",
    "embedded_posts = layers.Embedding(256, vocabulary_size)(posts_input)\n",
    "x = layers.Conv1D(128, 5, activation='relu')(embedded_posts)\n",
    "x = layers.MaxPool1D(5)(x)\n",
    "x = layers.Conv1D(256, 5, activation='relu')(x)\n",
    "x = layers.Conv1D(256, 5, activation='relu')(x)\n",
    "x = layers.MaxPool1D(5)(x)\n",
    "x = layers.Conv1D(256, 5, activation='relu')(x)\n",
    "x = layers.Conv1D(256, 5, activation='relu')(x)\n",
    "x = layers.GlobalMaxPool1D()(x)\n",
    "x = layers.Dense(128, activation='relu')(x)\n",
    "\n",
    "# the output layers\n",
    "age_prediction = layers.Dense(1, name='age')(x)\n",
    "income_prediction = layers.Dense(num_income_groups, activation='softmax', name='income')(x)\n",
    "gender_prediction = layers.Dense(1, activation='sigmoid', name='gender')(x)\n",
    "\n",
    "multi_output_model = Model(posts_input, [age_prediction, income_prediction, gender_prediction])\n",
    "\n",
    "multi_output_model.compile(optimizer='rmsprop',\n",
    "                         loss=['mse', 'categorical_crossentropy', 'binary_crossentropy'],\n",
    "                         loss_weights = [0.25, 1., 10.])\n",
    "print('the multi-ouput model:', multi_input_model.summary())\n",
    "\n",
    "plot_model(model=multi_output_model,\n",
    "          to_file='{}/multi_ouput_model.png'.format(res_path),\n",
    "          show_shapes=True)"
   ]
  },
  {
   "cell_type": "code",
   "execution_count": null,
   "metadata": {},
   "outputs": [],
   "source": []
  },
  {
   "cell_type": "code",
   "execution_count": null,
   "metadata": {},
   "outputs": [],
   "source": []
  }
 ],
 "metadata": {
  "kernelspec": {
   "display_name": "Python 3",
   "language": "python",
   "name": "python3"
  },
  "language_info": {
   "codemirror_mode": {
    "name": "ipython",
    "version": 3
   },
   "file_extension": ".py",
   "mimetype": "text/x-python",
   "name": "python",
   "nbconvert_exporter": "python",
   "pygments_lexer": "ipython3",
   "version": "3.5.2"
  }
 },
 "nbformat": 4,
 "nbformat_minor": 2
}
