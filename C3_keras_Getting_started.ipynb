{
 "cells": [
  {
   "cell_type": "markdown",
   "metadata": {},
   "source": [
    "## 3.4 Classifying movie reviews"
   ]
  },
  {
   "cell_type": "code",
   "execution_count": 1,
   "metadata": {},
   "outputs": [
    {
     "name": "stderr",
     "output_type": "stream",
     "text": [
      "Using TensorFlow backend.\n"
     ]
    }
   ],
   "source": [
    "from keras import layers\n",
    "from keras.datasets import imdb"
   ]
  },
  {
   "cell_type": "code",
   "execution_count": 2,
   "metadata": {},
   "outputs": [],
   "source": [
    "(train_data, train_labels), (test_data, test_labels) = imdb.load_data(num_words=10000)\n"
   ]
  },
  {
   "cell_type": "code",
   "execution_count": 3,
   "metadata": {},
   "outputs": [],
   "source": [
    "word_index = imdb.get_word_index()\n",
    "reverse_word_index = dict([(value, key) for (key, value) in word_index.items()])"
   ]
  },
  {
   "cell_type": "code",
   "execution_count": 4,
   "metadata": {},
   "outputs": [],
   "source": [
    "decode_review = ' '.join([reverse_word_index.get(i-3,'?') for i in train_data[0]])"
   ]
  },
  {
   "cell_type": "code",
   "execution_count": 5,
   "metadata": {},
   "outputs": [
    {
     "name": "stdout",
     "output_type": "stream",
     "text": [
      "? this film was just brilliant casting location scenery story direction everyone's really suited the part they played and you could just imagine being there robert ? is an amazing actor and now the same being director ? father came from the same scottish island as myself so i loved the fact there was a real connection with this film the witty remarks throughout the film were great it was just brilliant so much that i bought the film as soon as it was released for ? and would recommend it to everyone to watch and the fly fishing was amazing really cried at the end it was so sad and you know what they say if you cry at a film it must have been good and this definitely was also ? to the two little boy's that played the ? of norman and paul they were just brilliant children are often left out of the ? list i think because the stars that play them all grown up are such a big profile for the whole film but these children are amazing and should be praised for what they have done don't you think the whole story was so lovely because it was true and was someone's life after all that was shared with us all\n"
     ]
    }
   ],
   "source": [
    "print(decode_review)"
   ]
  },
  {
   "cell_type": "code",
   "execution_count": 6,
   "metadata": {},
   "outputs": [],
   "source": [
    "import numpy as np"
   ]
  },
  {
   "cell_type": "code",
   "execution_count": 7,
   "metadata": {},
   "outputs": [],
   "source": [
    "def vectorize_sequences(seq, dimension=10000):\n",
    "    results = np.zeros((len(seq), dimension))\n",
    "    for i, s in enumerate(seq):\n",
    "        results[i, s] = 1.\n",
    "    return results\n"
   ]
  },
  {
   "cell_type": "code",
   "execution_count": 8,
   "metadata": {},
   "outputs": [],
   "source": [
    "x_train = vectorize_sequences(train_data)\n",
    "x_test = vectorize_sequences(test_data)\n",
    "\n",
    "y_train = np.asarray(train_labels).astype('float32')\n",
    "y_test = np.asarray(test_labels).astype('float32')"
   ]
  },
  {
   "cell_type": "code",
   "execution_count": 9,
   "metadata": {},
   "outputs": [],
   "source": [
    "from keras import models\n",
    "from keras import metrics\n",
    "from keras import optimizers\n",
    "from keras import losses\n",
    "\n",
    "model = models.Sequential()\n",
    "model.add(layers.Dense(8, activation='relu', input_shape=(10000,)))\n",
    "model.add(layers.Dense(8, activation='relu'))\n",
    "model.add(layers.Dense(1,activation='sigmoid'))\n",
    "#\n",
    "# model.compile(optimizer='rmsprop', loss='binary_crossentropy', metrics=['accuracy'])\n",
    "model.compile(optimizer=optimizers.RMSprop(lr=0.0001),\n",
    "             loss=losses.MSE,\n",
    "             metrics=[metrics.binary_crossentropy, metrics.binary_accuracy])"
   ]
  },
  {
   "cell_type": "code",
   "execution_count": 10,
   "metadata": {},
   "outputs": [],
   "source": [
    "x_val = x_train[:10000]\n",
    "y_val = y_train[:10000]\n",
    "\n",
    "partial_x_train = x_train[10000:]\n",
    "partial_y_train = y_train[10000:]"
   ]
  },
  {
   "cell_type": "code",
   "execution_count": 11,
   "metadata": {},
   "outputs": [
    {
     "name": "stdout",
     "output_type": "stream",
     "text": [
      "Train on 15000 samples, validate on 10000 samples\n",
      "Epoch 1/20\n",
      "15000/15000 [==============================] - 2s 141us/step - loss: 0.2487 - binary_crossentropy: 0.6906 - binary_accuracy: 0.5403 - val_loss: 0.2447 - val_binary_crossentropy: 0.6825 - val_binary_accuracy: 0.6108\n",
      "Epoch 2/20\n",
      "15000/15000 [==============================] - 2s 124us/step - loss: 0.2375 - binary_crossentropy: 0.6680 - binary_accuracy: 0.6694 - val_loss: 0.2305 - val_binary_crossentropy: 0.6539 - val_binary_accuracy: 0.7157\n",
      "Epoch 3/20\n",
      "15000/15000 [==============================] - 2s 115us/step - loss: 0.2214 - binary_crossentropy: 0.6353 - binary_accuracy: 0.7534 - val_loss: 0.2165 - val_binary_crossentropy: 0.6252 - val_binary_accuracy: 0.7720\n",
      "Epoch 4/20\n",
      "15000/15000 [==============================] - 2s 121us/step - loss: 0.2070 - binary_crossentropy: 0.6055 - binary_accuracy: 0.8028 - val_loss: 0.2041 - val_binary_crossentropy: 0.5994 - val_binary_accuracy: 0.7994\n",
      "Epoch 5/20\n",
      "15000/15000 [==============================] - 2s 115us/step - loss: 0.1939 - binary_crossentropy: 0.5780 - binary_accuracy: 0.8292 - val_loss: 0.1930 - val_binary_crossentropy: 0.5758 - val_binary_accuracy: 0.8159\n",
      "Epoch 6/20\n",
      "15000/15000 [==============================] - 2s 117us/step - loss: 0.1824 - binary_crossentropy: 0.5531 - binary_accuracy: 0.8449 - val_loss: 0.1834 - val_binary_crossentropy: 0.5547 - val_binary_accuracy: 0.8251\n",
      "Epoch 7/20\n",
      "15000/15000 [==============================] - 2s 120us/step - loss: 0.1720 - binary_crossentropy: 0.5301 - binary_accuracy: 0.8559 - val_loss: 0.1743 - val_binary_crossentropy: 0.5345 - val_binary_accuracy: 0.8365\n",
      "Epoch 8/20\n",
      "15000/15000 [==============================] - 2s 119us/step - loss: 0.1626 - binary_crossentropy: 0.5087 - binary_accuracy: 0.8651 - val_loss: 0.1664 - val_binary_crossentropy: 0.5163 - val_binary_accuracy: 0.8418\n",
      "Epoch 9/20\n",
      "15000/15000 [==============================] - 2s 127us/step - loss: 0.1541 - binary_crossentropy: 0.4890 - binary_accuracy: 0.8728 - val_loss: 0.1592 - val_binary_crossentropy: 0.4996 - val_binary_accuracy: 0.8483\n",
      "Epoch 10/20\n",
      "15000/15000 [==============================] - 2s 118us/step - loss: 0.1462 - binary_crossentropy: 0.4704 - binary_accuracy: 0.8783 - val_loss: 0.1526 - val_binary_crossentropy: 0.4839 - val_binary_accuracy: 0.8522\n",
      "Epoch 11/20\n",
      "15000/15000 [==============================] - 2s 123us/step - loss: 0.1391 - binary_crossentropy: 0.4532 - binary_accuracy: 0.8836 - val_loss: 0.1467 - val_binary_crossentropy: 0.4693 - val_binary_accuracy: 0.8574\n",
      "Epoch 12/20\n",
      "15000/15000 [==============================] - 2s 121us/step - loss: 0.1326 - binary_crossentropy: 0.4372 - binary_accuracy: 0.8874 - val_loss: 0.1414 - val_binary_crossentropy: 0.4562 - val_binary_accuracy: 0.8593\n",
      "Epoch 13/20\n",
      "15000/15000 [==============================] - 2s 119us/step - loss: 0.1266 - binary_crossentropy: 0.4222 - binary_accuracy: 0.8919 - val_loss: 0.1364 - val_binary_crossentropy: 0.4434 - val_binary_accuracy: 0.8635\n",
      "Epoch 14/20\n",
      "15000/15000 [==============================] - 2s 117us/step - loss: 0.1211 - binary_crossentropy: 0.4079 - binary_accuracy: 0.8969 - val_loss: 0.1318 - val_binary_crossentropy: 0.4315 - val_binary_accuracy: 0.8656\n",
      "Epoch 15/20\n",
      "15000/15000 [==============================] - 2s 125us/step - loss: 0.1159 - binary_crossentropy: 0.3946 - binary_accuracy: 0.8997 - val_loss: 0.1277 - val_binary_crossentropy: 0.4207 - val_binary_accuracy: 0.8690\n",
      "Epoch 16/20\n",
      "15000/15000 [==============================] - 2s 120us/step - loss: 0.1112 - binary_crossentropy: 0.3820 - binary_accuracy: 0.9029 - val_loss: 0.1240 - val_binary_crossentropy: 0.4107 - val_binary_accuracy: 0.8717\n",
      "Epoch 17/20\n",
      "15000/15000 [==============================] - 2s 116us/step - loss: 0.1069 - binary_crossentropy: 0.3704 - binary_accuracy: 0.9062 - val_loss: 0.1206 - val_binary_crossentropy: 0.4013 - val_binary_accuracy: 0.8741\n",
      "Epoch 18/20\n",
      "15000/15000 [==============================] - 2s 121us/step - loss: 0.1028 - binary_crossentropy: 0.3592 - binary_accuracy: 0.9098 - val_loss: 0.1174 - val_binary_crossentropy: 0.3924 - val_binary_accuracy: 0.8761\n",
      "Epoch 19/20\n",
      "15000/15000 [==============================] - 2s 118us/step - loss: 0.0991 - binary_crossentropy: 0.3487 - binary_accuracy: 0.9127 - val_loss: 0.1146 - val_binary_crossentropy: 0.3842 - val_binary_accuracy: 0.8773\n",
      "Epoch 20/20\n",
      "15000/15000 [==============================] - 2s 118us/step - loss: 0.0955 - binary_crossentropy: 0.3388 - binary_accuracy: 0.9149 - val_loss: 0.1119 - val_binary_crossentropy: 0.3765 - val_binary_accuracy: 0.8786\n"
     ]
    }
   ],
   "source": [
    "history = model.fit(partial_x_train,\n",
    "                   partial_y_train,\n",
    "                   epochs=20,\n",
    "                   batch_size=512,\n",
    "                   validation_data=(x_val, y_val))"
   ]
  },
  {
   "cell_type": "code",
   "execution_count": 12,
   "metadata": {},
   "outputs": [
    {
     "name": "stdout",
     "output_type": "stream",
     "text": [
      "dict_keys(['val_loss', 'binary_crossentropy', 'loss', 'val_binary_crossentropy', 'val_binary_accuracy', 'binary_accuracy'])\n"
     ]
    }
   ],
   "source": [
    "print(history.history.keys())"
   ]
  },
  {
   "cell_type": "code",
   "execution_count": 13,
   "metadata": {},
   "outputs": [
    {
     "name": "stdout",
     "output_type": "stream",
     "text": [
      "25000/25000 [==============================] - 2s 77us/step\n",
      "[0.11651496637344361, 0.3884340719223022, 0.87272]\n",
      "[[0.45627287]\n",
      " [0.95468956]\n",
      " [0.76986164]\n",
      " ...\n",
      " [0.3085714 ]\n",
      " [0.39003277]\n",
      " [0.5506192 ]]\n"
     ]
    }
   ],
   "source": [
    "results = model.evaluate(x_test, y_test)\n",
    "print(results)\n",
    "print(model.predict(x_test))"
   ]
  },
  {
   "cell_type": "code",
   "execution_count": 14,
   "metadata": {},
   "outputs": [
    {
     "data": {
      "text/plain": [
       "<Figure size 640x480 with 2 Axes>"
      ]
     },
     "metadata": {},
     "output_type": "display_data"
    }
   ],
   "source": [
    "import matplotlib.pyplot as plt\n",
    "\n",
    "loss = history.history['loss']\n",
    "loss_val = history.history['val_loss']\n",
    "acc = history.history['binary_accuracy']\n",
    "acc_val = history.history['val_binary_accuracy']\n",
    "epochs = range(1, len(loss)+1)\n",
    "\n",
    "plt.subplot(211)\n",
    "plt.plot(epochs, acc, 'ro', label='training acc')\n",
    "plt.plot(epochs, acc_val, 'r', label='validating acc')\n",
    "plt.ylabel('acc')\n",
    "plt.legend()\n",
    "plt.subplot(212)\n",
    "plt.plot(epochs, loss, 'bo', label='traing loss')\n",
    "plt.plot(epochs, loss_val, 'b', label='validating loss')\n",
    "plt.xlabel('Epochs')\n",
    "plt.ylabel('Loss')\n",
    "plt.legend()\n",
    "\n",
    "plt.show()"
   ]
  },
  {
   "cell_type": "markdown",
   "metadata": {},
   "source": [
    "## 3.5 Classifying newswires: A multi-class classification example"
   ]
  },
  {
   "cell_type": "code",
   "execution_count": 15,
   "metadata": {},
   "outputs": [
    {
     "name": "stdout",
     "output_type": "stream",
     "text": [
      "8982 2246\n"
     ]
    }
   ],
   "source": [
    "# loading the reuters dataset\n",
    "from keras.datasets import reuters\n",
    "\n",
    "(train_data, train_labels), (test_data, test_labels) = reuters.load_data(num_words=10000)\n",
    "print(len(train_data),len(test_data))"
   ]
  },
  {
   "cell_type": "code",
   "execution_count": 16,
   "metadata": {},
   "outputs": [
    {
     "name": "stdout",
     "output_type": "stream",
     "text": [
      "[1, 3267, 699, 3434, 2295, 56, 2, 7511, 9, 56, 3906, 1073, 81, 5, 1198, 57, 366, 737, 132, 20, 4093, 7, 2, 49, 2295, 2, 1037, 3267, 699, 3434, 8, 7, 10, 241, 16, 855, 129, 231, 783, 5, 4, 587, 2295, 2, 2, 775, 7, 48, 34, 191, 44, 35, 1795, 505, 17, 12]\n",
      "4\n"
     ]
    },
    {
     "data": {
      "image/png": "[encoded data removed]",
      "text/plain": [
       "<Figure size 720x288 with 2 Axes>"
      ]
     },
     "metadata": {},
     "output_type": "display_data"
    }
   ],
   "source": [
    "# look at the data\n",
    "print(train_data[1])\n",
    "print(train_labels[1])\n",
    "plt.figure(figsize=(10,4))\n",
    "plt.subplot(121)\n",
    "n, bins, patches = plt.hist(train_labels, 50, density=True, facecolor='g', alpha=0.75)\n",
    "plt.ylabel('train_labels_hist')\n",
    "plt.xlabel('labels')\n",
    "plt.subplot(122)\n",
    "plt.hist(test_labels, 50, density=True, facecolor='m', alpha=0.5)\n",
    "plt.ylabel('test_labels_hist')\n",
    "plt.xlabel('labels')\n",
    "plt.grid(True)\n",
    "plt.show()"
   ]
  },
  {
   "cell_type": "code",
   "execution_count": 17,
   "metadata": {},
   "outputs": [],
   "source": [
    "# prepross the data\n",
    "def to_one_hot(labels, dim=46):\n",
    "    results = np.zeros((len(labels),dim))\n",
    "    for i, l in enumerate(labels):\n",
    "        results[i,l] = 1.\n",
    "    return results\n",
    "    \n",
    "x_train = vectorize_sequences(train_data)\n",
    "y_train = to_one_hot(train_labels)\n",
    "\n",
    "x_test = vectorize_sequences(test_data)\n",
    "y_test = to_one_hot(test_labels)"
   ]
  },
  {
   "cell_type": "code",
   "execution_count": 18,
   "metadata": {},
   "outputs": [],
   "source": [
    "# build the model\n",
    "from keras import models, layers\n",
    "from keras import metrics, optimizers, losses\n",
    "model = models.Sequential()\n",
    "classes = 46\n",
    "Hidden_size=[128,64,64]\n",
    "active_fun = 'relu'\n",
    "for i, hs in enumerate(Hidden_size):\n",
    "    if i is 0:\n",
    "        model.add(layers.Dense(hs,activation=active_fun,input_shape=(10000,)))\n",
    "    else:\n",
    "        model.add(layers.Dense(hs,activation=active_fun))\n",
    "model.add(layers.Dense(classes,activation='softmax'))\n",
    "\n",
    "model.compile(optimizer=optimizers.RMSprop(lr=0.001),\n",
    "             loss=losses.categorical_crossentropy,\n",
    "             metrics=[metrics.categorical_accuracy])\n"
   ]
  },
  {
   "cell_type": "code",
   "execution_count": 19,
   "metadata": {},
   "outputs": [
    {
     "name": "stdout",
     "output_type": "stream",
     "text": [
      "_________________________________________________________________\n",
      "Layer (type)                 Output Shape              Param #   \n",
      "=================================================================\n",
      "dense_4 (Dense)              (None, 128)               1280128   \n",
      "_________________________________________________________________\n",
      "dense_5 (Dense)              (None, 64)                8256      \n",
      "_________________________________________________________________\n",
      "dense_6 (Dense)              (None, 64)                4160      \n",
      "_________________________________________________________________\n",
      "dense_7 (Dense)              (None, 46)                2990      \n",
      "=================================================================\n",
      "Total params: 1,295,534\n",
      "Trainable params: 1,295,534\n",
      "Non-trainable params: 0\n",
      "_________________________________________________________________\n",
      "None\n"
     ]
    }
   ],
   "source": [
    "# show the model\n",
    "print(model.summary())\n",
    "from keras.utils import plot_model\n",
    "# plot_model(model,to_file='model1.png',show_shapes=True)"
   ]
  },
  {
   "cell_type": "code",
   "execution_count": 20,
   "metadata": {},
   "outputs": [
    {
     "name": "stdout",
     "output_type": "stream",
     "text": [
      "Train on 7982 samples, validate on 1000 samples\n",
      "Epoch 1/9\n",
      "7982/7982 [==============================] - 2s 219us/step - loss: 2.3910 - categorical_accuracy: 0.4997 - val_loss: 1.4644 - val_categorical_accuracy: 0.6650\n",
      "Epoch 2/9\n",
      "7982/7982 [==============================] - 1s 180us/step - loss: 1.2174 - categorical_accuracy: 0.7290 - val_loss: 1.1861 - val_categorical_accuracy: 0.7240\n",
      "Epoch 3/9\n",
      "7982/7982 [==============================] - 1s 182us/step - loss: 0.9015 - categorical_accuracy: 0.7972 - val_loss: 1.0386 - val_categorical_accuracy: 0.7660\n",
      "Epoch 4/9\n",
      "7982/7982 [==============================] - 1s 182us/step - loss: 0.6900 - categorical_accuracy: 0.8413 - val_loss: 0.9785 - val_categorical_accuracy: 0.7820\n",
      "Epoch 5/9\n",
      "7982/7982 [==============================] - 1s 183us/step - loss: 0.5169 - categorical_accuracy: 0.8845 - val_loss: 0.9390 - val_categorical_accuracy: 0.8000\n",
      "Epoch 6/9\n",
      "7982/7982 [==============================] - 1s 180us/step - loss: 0.4087 - categorical_accuracy: 0.9108 - val_loss: 0.9177 - val_categorical_accuracy: 0.8110\n",
      "Epoch 7/9\n",
      "7982/7982 [==============================] - 1s 183us/step - loss: 0.3138 - categorical_accuracy: 0.9308 - val_loss: 0.9700 - val_categorical_accuracy: 0.8020\n",
      "Epoch 8/9\n",
      "7982/7982 [==============================] - 1s 183us/step - loss: 0.2604 - categorical_accuracy: 0.9431 - val_loss: 0.9834 - val_categorical_accuracy: 0.7970\n",
      "Epoch 9/9\n",
      "7982/7982 [==============================] - 1s 181us/step - loss: 0.2084 - categorical_accuracy: 0.9499 - val_loss: 1.1533 - val_categorical_accuracy: 0.7660\n"
     ]
    },
    {
     "data": {
      "image/png": "[encoded data removed]",
      "text/plain": [
       "<Figure size 432x288 with 2 Axes>"
      ]
     },
     "metadata": {},
     "output_type": "display_data"
    }
   ],
   "source": [
    "# validating the model\n",
    "valid_size = 1000\n",
    "epochs = 9\n",
    "x_val = x_train[:valid_size]\n",
    "y_val = y_train[:valid_size]\n",
    "px_train = x_train[valid_size:]\n",
    "py_train = y_train[valid_size:]\n",
    "\n",
    "history = model.fit(px_train,\n",
    "         py_train,\n",
    "         epochs=epochs,\n",
    "         batch_size=512,\n",
    "         validation_data=(x_val, y_val))\n",
    "\n",
    "import matplotlib.pyplot as plt\n",
    "\n",
    "loss = history.history['loss']\n",
    "loss_val = history.history['val_loss']\n",
    "acc = history.history['categorical_accuracy']\n",
    "acc_val = history.history['val_categorical_accuracy']\n",
    "epochs = range(1, len(loss)+1)\n",
    "\n",
    "plt.subplot(211)\n",
    "plt.plot(epochs, acc, 'ro', label='training acc')\n",
    "plt.plot(epochs, acc_val, 'r', label='validating acc')\n",
    "plt.ylabel('acc')\n",
    "plt.legend()\n",
    "plt.subplot(212)\n",
    "plt.plot(epochs, loss, 'bo', label='traing loss')\n",
    "plt.plot(epochs, loss_val, 'b', label='validating loss')\n",
    "plt.xlabel('Epochs')\n",
    "plt.ylabel('Loss')\n",
    "plt.legend()\n",
    "\n",
    "plt.show()"
   ]
  },
  {
   "cell_type": "code",
   "execution_count": 21,
   "metadata": {},
   "outputs": [
    {
     "name": "stdout",
     "output_type": "stream",
     "text": [
      "2246/2246 [==============================] - 0s 183us/step\n",
      "[1.262152463542704, 0.7466607302135373]\n"
     ]
    }
   ],
   "source": [
    "results = model.evaluate(x_test, y_test)\n",
    "print(results)"
   ]
  },
  {
   "cell_type": "code",
   "execution_count": 22,
   "metadata": {},
   "outputs": [],
   "source": [
    "predictions = model.predict(x_test)"
   ]
  },
  {
   "cell_type": "code",
   "execution_count": 27,
   "metadata": {},
   "outputs": [
    {
     "name": "stdout",
     "output_type": "stream",
     "text": [
      "(46,)\n",
      "1.0\n",
      "4\n"
     ]
    }
   ],
   "source": [
    "print(predictions[0].shape)\n",
    "print(np.sum(predictions[0]))\n",
    "print(np.argmax(predictions[0]))"
   ]
  },
  {
   "cell_type": "code",
   "execution_count": 28,
   "metadata": {},
   "outputs": [],
   "source": [
    "y_train = np.array(train_labels)\n",
    "y_test = np.array(test_labels)"
   ]
  },
  {
   "cell_type": "code",
   "execution_count": 31,
   "metadata": {},
   "outputs": [
    {
     "name": "stdout",
     "output_type": "stream",
     "text": [
      "Train on 7982 samples, validate on 1000 samples\n",
      "Epoch 1/9\n",
      "7982/7982 [==============================] - 2s 207us/step - loss: 0.1453 - acc: 0.9521 - val_loss: 1.0908 - val_acc: 0.7980\n",
      "Epoch 2/9\n",
      "7982/7982 [==============================] - 1s 180us/step - loss: 0.1026 - acc: 0.9572 - val_loss: 1.0874 - val_acc: 0.8050\n",
      "Epoch 3/9\n",
      "7982/7982 [==============================] - 1s 179us/step - loss: 0.1059 - acc: 0.9564 - val_loss: 1.1098 - val_acc: 0.7940\n",
      "Epoch 4/9\n",
      "7982/7982 [==============================] - 1s 180us/step - loss: 0.1017 - acc: 0.9587 - val_loss: 1.1564 - val_acc: 0.7920\n",
      "Epoch 5/9\n",
      "7982/7982 [==============================] - 2s 207us/step - loss: 0.0990 - acc: 0.9583 - val_loss: 1.1650 - val_acc: 0.7920\n",
      "Epoch 6/9\n",
      "7982/7982 [==============================] - 1s 185us/step - loss: 0.0972 - acc: 0.9590 - val_loss: 1.1225 - val_acc: 0.8010\n",
      "Epoch 7/9\n",
      "7982/7982 [==============================] - 1s 183us/step - loss: 0.0926 - acc: 0.9587 - val_loss: 1.1961 - val_acc: 0.7950\n",
      "Epoch 8/9\n",
      "7982/7982 [==============================] - 1s 183us/step - loss: 0.0938 - acc: 0.9579 - val_loss: 1.1392 - val_acc: 0.7990\n",
      "Epoch 9/9\n",
      "7982/7982 [==============================] - 2s 220us/step - loss: 0.0901 - acc: 0.9597 - val_loss: 1.1831 - val_acc: 0.7930\n"
     ]
    },
    {
     "data": {
      "image/png": "[encoded data removed]",
      "text/plain": [
       "<Figure size 432x288 with 2 Axes>"
      ]
     },
     "metadata": {},
     "output_type": "display_data"
    }
   ],
   "source": [
    "model.compile(optimizer='rmsprop', loss='sparse_categorical_crossentropy', metrics=['acc'])\n",
    "\n",
    "valid_size = 1000\n",
    "epochs = 9\n",
    "x_val = x_train[:valid_size]\n",
    "y_val = y_train[:valid_size]\n",
    "px_train = x_train[valid_size:]\n",
    "py_train = y_train[valid_size:]\n",
    "history = model.fit(px_train,\n",
    "         py_train,\n",
    "         epochs=epochs,\n",
    "         batch_size=512,\n",
    "         validation_data=(x_val, y_val))\n",
    "\n",
    "import matplotlib.pyplot as plt\n",
    "\n",
    "loss = history.history['loss']\n",
    "loss_val = history.history['val_loss']\n",
    "acc = history.history['acc']\n",
    "acc_val = history.history['val_acc']\n",
    "epochs = range(1, len(loss)+1)\n",
    "\n",
    "plt.subplot(211)\n",
    "plt.plot(epochs, acc, 'ro', label='training acc')\n",
    "plt.plot(epochs, acc_val, 'r', label='validating acc')\n",
    "plt.ylabel('acc')\n",
    "plt.legend()\n",
    "plt.subplot(212)\n",
    "plt.plot(epochs, loss, 'bo', label='traing loss')\n",
    "plt.plot(epochs, loss_val, 'b', label='validating loss')\n",
    "plt.xlabel('Epochs')\n",
    "plt.ylabel('Loss')\n",
    "plt.legend()\n",
    "\n",
    "plt.show()"
   ]
  },
  {
   "cell_type": "code",
   "execution_count": 30,
   "metadata": {},
   "outputs": [
    {
     "name": "stdout",
     "output_type": "stream",
     "text": [
      "dict_keys(['val_loss', 'acc', 'val_acc', 'loss'])\n"
     ]
    }
   ],
   "source": [
    "print(history.history.keys())"
   ]
  },
  {
   "cell_type": "code",
   "execution_count": null,
   "metadata": {},
   "outputs": [],
   "source": []
  }
 ],
 "metadata": {
  "kernelspec": {
   "display_name": "Python 3",
   "language": "python",
   "name": "python3"
  },
  "language_info": {
   "codemirror_mode": {
    "name": "ipython",
    "version": 3
   },
   "file_extension": ".py",
   "mimetype": "text/x-python",
   "name": "python",
   "nbconvert_exporter": "python",
   "pygments_lexer": "ipython3",
   "version": "3.5.2"
  }
 },
 "nbformat": 4,
 "nbformat_minor": 2
}
